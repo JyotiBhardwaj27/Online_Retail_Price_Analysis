{
 "cells": [
  {
   "cell_type": "code",
   "execution_count": null,
   "id": "ac96a5fc-4d8d-4f6b-8f0d-cccbefda841d",
   "metadata": {},
   "outputs": [],
   "source": [
    "import pandas as pd\n",
    "import re\n",
    "\n",
    "# Load the data\n",
    "df = pd.read_csv('smartphone_flipkart_data.csv')\n",
    "\n",
    "# Function to extract key details from product name\n",
    "def extract_info(product_name):\n",
    "    brand = product_name.split()[0]\n",
    "    model_match = re.search(r'(Phone [\\d+a-zA-Z]+|A\\d+[a-zA-Z]*|g\\d+[a-zA-Z]*|C\\d+[a-zA-Z]*|Galaxy F\\d+[a-zA-Z]*|T\\d+[a-zA-Z]*|vivo [T]\\d+[a-zA-Z]*)', product_name)\n",
    "    storage_match = re.search(r'(\\d+\\s*GB)', product_name)\n",
    "    color_match = re.search(r'(Black|White|Green|Red|Blue|Purple)', product_name)\n",
    "\n",
    "    model = model_match.group(0) if model_match else 'Not Found'\n",
    "    storage = storage_match.group(0) if storage_match else 'Not Found'\n",
    "    color = color_match.group(0) if color_match else 'Not Found'\n",
    "\n",
    "    return pd.Series([brand, model, storage, color])\n",
    "\n",
    "# Apply the function to extract data\n",
    "df[['Brand', 'Model', 'Storage', 'Color']] = df['Product Name'].apply(extract_info)\n",
    "\n",
    "# Save the updated CSV\n",
    "df.to_csv('smartphones_amazon_data_cleaned.csv', index=False)\n",
    "print('Data extraction completed and saved to smartphones_amazon_data_cleaned.csv')"
   ]
  },
  {
   "cell_type": "code",
   "execution_count": 3,
   "id": "ac43ef10-4a6d-4bea-8be0-489892409b57",
   "metadata": {},
   "outputs": [
    {
     "name": "stdout",
     "output_type": "stream",
     "text": [
      "Data extraction completed and saved to smartphones_flipkart_data_cleaned.csv\n"
     ]
    }
   ],
   "source": [
    "import pandas as pd\n",
    "import re\n",
    "\n",
    "# Load the data\n",
    "df = pd.read_csv('smartphone_flipkart_data.csv')\n",
    "\n",
    "# Function to extract key details from product name\n",
    "def extract_info(product_name):\n",
    "    brand = product_name.split()[0]\n",
    "    model_match = re.search(r'(Phone [\\d+a-zA-Z]+|A\\d+[a-zA-Z]*|g\\d+[a-zA-Z]*|C\\d+[a-zA-Z]*|Galaxy F\\d+[a-zA-Z]*|T\\d+[a-zA-Z]*|vivo [T]\\d+[a-zA-Z]*)', product_name)\n",
    "    storage_match = re.search(r'(\\d+\\s*GB)', product_name)\n",
    "    color_match = re.search(r'(Black|White|Green|Red|Blue|Purple)', product_name)\n",
    "\n",
    "    model = model_match.group(0) if model_match else 'Not Found'\n",
    "    storage = storage_match.group(0) if storage_match else 'Not Found'\n",
    "    color = color_match.group(0) if color_match else 'Not Found'\n",
    "\n",
    "    return pd.Series([brand, model, storage, color])\n",
    "\n",
    "# Apply the function to extract data\n",
    "df[['Brand', 'Model', 'Storage', 'Color']] = df['Product Name'].apply(extract_info)\n",
    "\n",
    "# Save the updated CSV\n",
    "df.to_csv('smartphones_flipkart_data_cleaned.csv', index=False)\n",
    "print('Data extraction completed and saved to smartphones_flipkart_data_cleaned.csv')\n"
   ]
  }
 ],
 "metadata": {
  "kernelspec": {
   "display_name": "Python 3 (ipykernel)",
   "language": "python",
   "name": "python3"
  },
  "language_info": {
   "codemirror_mode": {
    "name": "ipython",
    "version": 3
   },
   "file_extension": ".py",
   "mimetype": "text/x-python",
   "name": "python",
   "nbconvert_exporter": "python",
   "pygments_lexer": "ipython3",
   "version": "3.12.7"
  }
 },
 "nbformat": 4,
 "nbformat_minor": 5
}
