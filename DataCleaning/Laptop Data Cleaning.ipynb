{
 "cells": [
  {
   "cell_type": "code",
   "execution_count": 7,
   "id": "0500d5e5-9733-4473-9bd7-65a7a9b60af5",
   "metadata": {},
   "outputs": [
    {
     "name": "stdout",
     "output_type": "stream",
     "text": [
      "Data extraction completed and saved to laptop_data_cleaned.csv\n"
     ]
    }
   ],
   "source": [
    "import pandas as pd\n",
    "import re\n",
    "\n",
    "# Load the data\n",
    "df = pd.read_csv('laptop_flipkart_data.csv')\n",
    "\n",
    "# Function to extract key details from product name\n",
    "def extract_info(product_name):\n",
    "    brand = product_name.split()[0]\n",
    "    processor_match = re.search(r'(Intel Core [^ ]+|MediaTek|AMD [^ ]+)', product_name)\n",
    "    ram_match = re.search(r'(\\d+\\s*GB)', product_name)\n",
    "    storage_match = re.search(r'(\\d+\\s*GB|\\d+\\s*TB)', product_name)\n",
    "    model_match = re.search(r'(Galaxy Book[\\d]*|Chromebook|Aspire|V15|V14|Yoga|IdeaPad|MacBook)', product_name)\n",
    "    os_match = re.search(r'(Windows [\\d]+|Chrome OS|macOS)', product_name)\n",
    "\n",
    "    processor = processor_match.group(0) if processor_match else 'Not Found'\n",
    "    ram = ram_match.group(0) if ram_match else 'Not Found'\n",
    "    storage = storage_match.group(0) if storage_match else 'Not Found'\n",
    "    model = model_match.group(0) if model_match else 'Not Found'\n",
    "    operating_system = os_match.group(0) if os_match else 'Not Found'\n",
    "\n",
    "    return pd.Series([brand, model, processor, ram, storage, operating_system])\n",
    "\n",
    "# Apply the function to extract data\n",
    "df[['Brand', 'Model', 'Processor', 'RAM', 'Storage', 'Operating System']] = df['Product Name'].apply(extract_info)\n",
    "\n",
    "# Save the updated CSV\n",
    "df.to_csv('flipkart_laptop_data_cleaned.csv', index=False)\n",
    "print('Data extraction completed and saved to laptop_data_cleaned.csv')\n"
   ]
  },
  {
   "cell_type": "code",
   "execution_count": 9,
   "id": "b8330ed0-aaa9-43a2-93a9-1dfedbcd2e88",
   "metadata": {},
   "outputs": [
    {
     "name": "stdout",
     "output_type": "stream",
     "text": [
      "Data extraction completed and saved to laptop_data_cleaned.csv\n"
     ]
    }
   ],
   "source": [
    "import pandas as pd\n",
    "import re\n",
    "\n",
    "# Load the data\n",
    "df = pd.read_csv('laptop_amazon_data.csv')\n",
    "\n",
    "# Function to extract key details from product name\n",
    "def extract_info(product_name):\n",
    "    brand = product_name.split()[0]\n",
    "    processor_match = re.search(r'(Intel Core [^ ]+|MediaTek|AMD [^ ]+)', product_name)\n",
    "    ram_match = re.search(r'(\\d+\\s*GB)', product_name)\n",
    "    storage_match = re.search(r'(\\d+\\s*GB|\\d+\\s*TB)', product_name)\n",
    "    model_match = re.search(r'(Galaxy Book[\\d]*|Chromebook|Aspire|V15|V14|Yoga|IdeaPad|MacBook)', product_name)\n",
    "    os_match = re.search(r'(Windows [\\d]+|Chrome OS|macOS)', product_name)\n",
    "\n",
    "    processor = processor_match.group(0) if processor_match else 'Not Found'\n",
    "    ram = ram_match.group(0) if ram_match else 'Not Found'\n",
    "    storage = storage_match.group(0) if storage_match else 'Not Found'\n",
    "    model = model_match.group(0) if model_match else 'Not Found'\n",
    "    operating_system = os_match.group(0) if os_match else 'Not Found'\n",
    "\n",
    "    return pd.Series([brand, model, processor, ram, storage, operating_system])\n",
    "\n",
    "# Apply the function to extract data\n",
    "df[['Brand', 'Model', 'Processor', 'RAM', 'Storage', 'Operating System']] = df['Product Name'].apply(extract_info)\n",
    "\n",
    "# Save the updated CSV\n",
    "df.to_csv('amazon_laptop_data_cleaned.csv', index=False)\n",
    "print('Data extraction completed and saved to laptop_data_cleaned.csv')\n"
   ]
  }
 ],
 "metadata": {
  "kernelspec": {
   "display_name": "Python 3 (ipykernel)",
   "language": "python",
   "name": "python3"
  },
  "language_info": {
   "codemirror_mode": {
    "name": "ipython",
    "version": 3
   },
   "file_extension": ".py",
   "mimetype": "text/x-python",
   "name": "python",
   "nbconvert_exporter": "python",
   "pygments_lexer": "ipython3",
   "version": "3.12.7"
  }
 },
 "nbformat": 4,
 "nbformat_minor": 5
}
